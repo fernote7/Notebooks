{
 "metadata": {
  "name": "",
  "signature": "sha256:541c2935e7477fcd6add1bff47004331a7a4cd37ed0d6ff25d667b627f18ca65"
 },
 "nbformat": 3,
 "nbformat_minor": 0,
 "worksheets": [
  {
   "cells": [
    {
     "cell_type": "code",
     "collapsed": false,
     "input": [
      "import requests"
     ],
     "language": "python",
     "metadata": {},
     "outputs": [],
     "prompt_number": 25
    },
    {
     "cell_type": "code",
     "collapsed": false,
     "input": [
      "def AmigoSecreto():\n",
      "    email = 'fernote7@gmail.com'\n",
      "    senha = 'fot0910'\n",
      "    url_login = 'http://www.amigosecreto.com.br/login.asp'\n",
      "\n",
      "    url_grupo = 'http://www.amigosecreto.com.br/load-grupo.asp?grupo_cod=113200' # Passo 2 - Acesso ao grupo\n",
      "    url_grupo_msg = 'http://www.amigosecreto.com.br/grupo-msg.asp'\n",
      "    url_grupo_msg_quem_me_tirou = 'http://www.amigosecreto.com.br/grupo-msg-quem-eu-tirei.asp'\n",
      "    url_envia_msg_quem_me_tirou = 'http://www.amigosecreto.com.br/grupo-msg-quem-grava.asp'\n",
      "\n",
      "\n",
      "    sessao = requests.session()\n",
      "\n",
      "    dados = {'origem': '/00.asp', 'origem_string': '', 'destino': '',\n",
      "                 'email': email, 'senha': senha}\n",
      "\n",
      "\n",
      "    sessao.post(url_login, data=dados)\n",
      "    sessao.get(url_grupo.format(113200))\n",
      "    sessao.get(url_grupo_msg)\n",
      "    sessao.get(url_grupo_msg_quem_me_tirou)\n",
      "    \n",
      "    mensagem = 'Querida, o que voc\u00ea gostaria de receber de presente? N\u00e3o tenho id\u00e9ia do que te voc\u00ea gostaria de receber.'\n",
      "    mensagem = mensagem.decode('utf-8').encode('iso-8859-1')\n",
      "\n",
      "    dados_mensagem = {'quem_eu_tirei': '1', 'quem_me_tirou': '0',\n",
      "                  'amigo_mensagem_secreta': mensagem}\n",
      "\n",
      "\n",
      "    sessao.post(url_envia_msg_quem_me_tirou, data=dados_mensagem)"
     ],
     "language": "python",
     "metadata": {},
     "outputs": [],
     "prompt_number": 26
    },
    {
     "cell_type": "code",
     "collapsed": false,
     "input": [
      "def AmigoSecreto2():\n",
      "    email = 'fernote7@gmail.com'\n",
      "    senha = 'fot0910'\n",
      "    url_login = 'http://www.amigosecreto.com.br/login.asp'\n",
      "\n",
      "    url_grupo = 'http://www.amigosecreto.com.br/load-grupo.asp?grupo_cod=113200' # Passo 2 - Acesso ao grupo\n",
      "    url_grupo_msg = 'http://www.amigosecreto.com.br/grupo-msg.asp'\n",
      "    url_grupo_msg_quem_me_tirou = 'http://www.amigosecreto.com.br/grupo-msg-quem-me-tirou.asp'\n",
      "    url_envia_msg_quem_me_tirou = 'http://www.amigosecreto.com.br/grupo-msg-quem-grava.asp'\n",
      "\n",
      "\n",
      "    sessao = requests.session()\n",
      "\n",
      "    dados = {'origem': '/00.asp', 'origem_string': '', 'destino': '',\n",
      "                 'email': email, 'senha': senha}\n",
      "\n",
      "\n",
      "    sessao.post(url_login, data=dados)\n",
      "    sessao.get(url_grupo.format(113200))\n",
      "    sessao.get(url_grupo_msg)\n",
      "    sessao.get(url_grupo_msg_quem_me_tirou)\n",
      "    \n",
      "    mensagem = 'Hey hey amizade oculta...lembro-o que minha lista de desejos est\u00e1 no site, n\u00e3o deixe de conferir! =D'\n",
      "    mensagem = mensagem.decode('utf-8').encode('iso-8859-1')\n",
      "\n",
      "    dados_mensagem = {'quem_eu_tirei': '0', 'quem_me_tirou': '1',\n",
      "                  'amigo_mensagem_secreta': mensagem}\n",
      "\n",
      "\n",
      "    sessao.post(url_envia_msg_quem_me_tirou, data=dados_mensagem)"
     ],
     "language": "python",
     "metadata": {},
     "outputs": [],
     "prompt_number": 27
    },
    {
     "cell_type": "code",
     "collapsed": false,
     "input": [
      "if __name__ == '__main__':\n",
      "    import datetime\n",
      "    import time\n",
      "    data_certa = datetime.datetime(2014, 11, 30, 23, 30, 11)\n",
      "    while datetime.datetime.now() < data_certa:\n",
      "        #print 'dormir'\n",
      "        time.sleep(1)\n",
      "    print 'eh agora'\n",
      "    amigo = AmigoSecreto2()\n",
      "    \n",
      "if __name__ == '__main__':\n",
      "    import datetime\n",
      "    import time\n",
      "    data_certa = datetime.datetime(2014, 12, 1, 7, 40, 26)\n",
      "    while datetime.datetime.now() < data_certa:\n",
      "        #print 'dormir'\n",
      "        time.sleep(1)\n",
      "    print 'eh agora'\n",
      "    amigo = AmigoSecreto()\n",
      "\n"
     ],
     "language": "python",
     "metadata": {},
     "outputs": [
      {
       "output_type": "stream",
       "stream": "stdout",
       "text": [
        "eh agora\n",
        "eh agora"
       ]
      },
      {
       "output_type": "stream",
       "stream": "stdout",
       "text": [
        "\n"
       ]
      }
     ],
     "prompt_number": 29
    },
    {
     "cell_type": "code",
     "collapsed": false,
     "input": [],
     "language": "python",
     "metadata": {},
     "outputs": [],
     "prompt_number": 24
    },
    {
     "cell_type": "code",
     "collapsed": false,
     "input": [],
     "language": "python",
     "metadata": {},
     "outputs": [],
     "prompt_number": 22
    },
    {
     "cell_type": "code",
     "collapsed": false,
     "input": [],
     "language": "python",
     "metadata": {},
     "outputs": [],
     "prompt_number": 23
    },
    {
     "cell_type": "code",
     "collapsed": false,
     "input": [],
     "language": "python",
     "metadata": {},
     "outputs": []
    }
   ],
   "metadata": {}
  }
 ]
}