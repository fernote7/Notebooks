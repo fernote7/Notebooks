{
 "metadata": {
  "name": "",
  "signature": "sha256:a610364ae0535edd0ce9dc841a2c25e627576642895c277bd0be748be097924c"
 },
 "nbformat": 3,
 "nbformat_minor": 0,
 "worksheets": [
  {
   "cells": [
    {
     "cell_type": "code",
     "collapsed": false,
     "input": [
      "import ystockquote as ys\n",
      "from pprint import pprint\n",
      "import matplotlib as plt"
     ],
     "language": "python",
     "metadata": {},
     "outputs": [],
     "prompt_number": 1
    },
    {
     "cell_type": "code",
     "collapsed": false,
     "input": [
      "ys.get_price('PBR')"
     ],
     "language": "python",
     "metadata": {},
     "outputs": [
      {
       "metadata": {},
       "output_type": "pyout",
       "prompt_number": 2,
       "text": [
        "'10.39'"
       ]
      }
     ],
     "prompt_number": 2
    },
    {
     "cell_type": "code",
     "collapsed": false,
     "input": [
      "obj = pprint(ys.get_historical_prices('PBR', '2014-10-25', '2014-11-25'))"
     ],
     "language": "python",
     "metadata": {},
     "outputs": [
      {
       "output_type": "stream",
       "stream": "stdout",
       "text": [
        "{'2014-10-27': {'Adj Close': '11.16',\n",
        "                'Close': '11.16',\n",
        "                'High': '11.34',\n",
        "                'Low': '10.80',\n",
        "                'Open': '10.83',\n",
        "                'Volume': '164822800'},\n",
        " '2014-10-28': {'Adj Close': '11.68',\n",
        "                'Close': '11.68',\n",
        "                'High': '11.81',\n",
        "                'Low': '11.42',\n",
        "                'Open': '11.59',\n",
        "                'Volume': '54777100'},\n",
        " '2014-10-29': {'Adj Close': '11.21',\n",
        "                'Close': '11.21',\n",
        "                'High': '11.65',\n",
        "                'Low': '10.87',\n",
        "                'Open': '11.51',\n",
        "                'Volume': '58851300'},\n",
        " '2014-10-30': {'Adj Close': '11.32',\n",
        "                'Close': '11.32',\n",
        "                'High': '11.66',\n",
        "                'Low': '11.18',\n",
        "                'Open': '11.53',\n",
        "                'Volume': '43630300'},\n",
        " '2014-10-31': {'Adj Close': '11.70',\n",
        "                'Close': '11.70',\n",
        "                'High': '11.85',\n",
        "                'Low': '11.27',\n",
        "                'Open': '11.38',\n",
        "                'Volume': '44532800'},\n",
        " '2014-11-03': {'Adj Close': '11.26',\n",
        "                'Close': '11.26',\n",
        "                'High': '11.61',\n",
        "                'Low': '11.14',\n",
        "                'Open': '11.59',\n",
        "                'Volume': '37060700'},\n",
        " '2014-11-04': {'Adj Close': '11.32',\n",
        "                'Close': '11.32',\n",
        "                'High': '11.46',\n",
        "                'Low': '11.00',\n",
        "                'Open': '11.28',\n",
        "                'Volume': '33234000'},\n",
        " '2014-11-05': {'Adj Close': '11.16',\n",
        "                'Close': '11.16',\n",
        "                'High': '11.32',\n",
        "                'Low': '11.00',\n",
        "                'Open': '11.08',\n",
        "                'Volume': '30967000'},\n",
        " '2014-11-06': {'Adj Close': '10.73',\n",
        "                'Close': '10.73',\n",
        "                'High': '10.79',\n",
        "                'Low': '10.57',\n",
        "                'Open': '10.67',\n",
        "                'Volume': '50132400'},\n",
        " '2014-11-07': {'Adj Close': '10.90',\n",
        "                'Close': '10.90',\n",
        "                'High': '11.10',\n",
        "                'Low': '10.58',\n",
        "                'Open': '10.60',\n",
        "                'Volume': '47281700'},\n",
        " '2014-11-10': {'Adj Close': '10.62',\n",
        "                'Close': '10.62',\n",
        "                'High': '10.90',\n",
        "                'Low': '10.53',\n",
        "                'Open': '10.82',\n",
        "                'Volume': '34163900'},\n",
        " '2014-11-11': {'Adj Close': '10.65',\n",
        "                'Close': '10.65',\n",
        "                'High': '10.66',\n",
        "                'Low': '10.25',\n",
        "                'Open': '10.35',\n",
        "                'Volume': '36556300'},\n",
        " '2014-11-12': {'Adj Close': '10.56',\n",
        "                'Close': '10.56',\n",
        "                'High': '11.03',\n",
        "                'Low': '10.52',\n",
        "                'Open': '10.66',\n",
        "                'Volume': '31824800'},\n",
        " '2014-11-13': {'Adj Close': '10.20',\n",
        "                'Close': '10.20',\n",
        "                'High': '10.68',\n",
        "                'Low': '10.09',\n",
        "                'Open': '10.62',\n",
        "                'Volume': '40628900'},\n",
        " '2014-11-14': {'Adj Close': '9.95',\n",
        "                'Close': '9.95',\n",
        "                'High': '10.04',\n",
        "                'Low': '9.51',\n",
        "                'Open': '9.61',\n",
        "                'Volume': '63670600'},\n",
        " '2014-11-17': {'Adj Close': '9.33',\n",
        "                'Close': '9.33',\n",
        "                'High': '9.94',\n",
        "                'Low': '9.27',\n",
        "                'Open': '9.91',\n",
        "                'Volume': '49456200'},\n",
        " '2014-11-18': {'Adj Close': '9.42',\n",
        "                'Close': '9.42',\n",
        "                'High': '9.61',\n",
        "                'Low': '8.80',\n",
        "                'Open': '9.23',\n",
        "                'Volume': '67400200'},\n",
        " '2014-11-19': {'Adj Close': '9.49',\n",
        "                'Close': '9.49',\n",
        "                'High': '9.71',\n",
        "                'Low': '9.34',\n",
        "                'Open': '9.66',\n",
        "                'Volume': '41561900'},\n",
        " '2014-11-20': {'Adj Close': '9.71',\n",
        "                'Close': '9.71',\n",
        "                'High': '9.95',\n",
        "                'Low': '9.49',\n",
        "                'Open': '9.76',\n",
        "                'Volume': '41678200'},\n",
        " '2014-11-21': {'Adj Close': '10.84',\n",
        "                'Close': '10.84',\n",
        "                'High': '11.00',\n",
        "                'Low': '10.08',\n",
        "                'Open': '10.13',\n",
        "                'Volume': '76088100'},\n",
        " '2014-11-24': {'Adj Close': '10.50',\n",
        "                'Close': '10.50',\n",
        "                'High': '11.11',\n",
        "                'Low': '10.43',\n",
        "                'Open': '11.10',\n",
        "                'Volume': '60514700'}}\n"
       ]
      }
     ],
     "prompt_number": 3
    },
    {
     "cell_type": "code",
     "collapsed": false,
     "input": [
      "from threading import Timer\n",
      "\n",
      "class RepeatedTimer(object):\n",
      "    def __init__(self, interval, function, *args, **kwargs):\n",
      "        self._timer     = None\n",
      "        self.interval   = interval\n",
      "        self.function   = function\n",
      "        self.args       = args\n",
      "        self.kwargs     = kwargs\n",
      "        self.is_running = False\n",
      "        self.start()\n",
      "\n",
      "    def _run(self):\n",
      "        self.is_running = False\n",
      "        self.start()\n",
      "        self.function(*self.args, **self.kwargs)\n",
      "\n",
      "    def start(self):\n",
      "        if not self.is_running:\n",
      "            self._timer = Timer(self.interval, self._run)\n",
      "            self._timer.start()\n",
      "            self.is_running = True\n",
      "\n",
      "    def stop(self):\n",
      "        self._timer.cancel()\n",
      "        self.is_running = False"
     ],
     "language": "python",
     "metadata": {},
     "outputs": [],
     "prompt_number": 51
    },
    {
     "cell_type": "code",
     "collapsed": false,
     "input": [
      "from time import sleep\n",
      "\n",
      "def hello(name):\n",
      "    print \"Hello %s!\" % name\n",
      "\n",
      "print \"starting...\"\n",
      "rt = RepeatedTimer(1, hello, \"World\") # it auto-starts, no need of rt.start()\n",
      "try:\n",
      "    sleep(10) # your long-running job goes here...\n",
      "finally:\n",
      "    rt.stop() # better in a try/finally block to make sure the program ends!"
     ],
     "language": "python",
     "metadata": {},
     "outputs": [
      {
       "output_type": "stream",
       "stream": "stdout",
       "text": [
        "starting...\n",
        "Hello World!\n",
        "Hello World!\n",
        "Hello World!\n",
        "Hello World!\n",
        "Hello World!\n",
        "Hello World!\n",
        "Hello World!\n",
        "Hello World!\n",
        "Hello World!\n"
       ]
      }
     ],
     "prompt_number": 59
    },
    {
     "cell_type": "code",
     "collapsed": false,
     "input": [],
     "language": "python",
     "metadata": {},
     "outputs": [],
     "prompt_number": 53
    },
    {
     "cell_type": "code",
     "collapsed": false,
     "input": [
      "import apscheduler as sch"
     ],
     "language": "python",
     "metadata": {},
     "outputs": [],
     "prompt_number": 26
    },
    {
     "cell_type": "code",
     "collapsed": false,
     "input": [
      "import apscheduler as sch\n",
      "import sys\n",
      "from time import sleep\n",
      "#from sch.schedulers import Scheduler\n",
      "sched = Scheduler()\n",
      "sched.start()        # start the scheduler\n",
      " \n",
      "# define the function that is to be executed\n",
      "# it will be executed in a thread by the scheduler\n",
      "def my_job(a):\n",
      "    print text\n",
      " \n",
      "def main():\n",
      "    # job = sched.add_date_job(my_job, datetime(2013, 8, 5, 23, 47, 5), ['text'])\n",
      "    job = sched.add_date_job(my_job, '2014-11-25 20:16:45', ['a'])\n",
      "    while True:\n",
      "        sleep(1)\n",
      "        sys.stdout.write('.'); sys.stdout.flush()"
     ],
     "language": "python",
     "metadata": {},
     "outputs": [
      {
       "ename": "NameError",
       "evalue": "name 'Scheduler' is not defined",
       "output_type": "pyerr",
       "traceback": [
        "\u001b[1;31m---------------------------------------------------------------------------\u001b[0m\n\u001b[1;31mNameError\u001b[0m                                 Traceback (most recent call last)",
        "\u001b[1;32m<ipython-input-35-711727dccf7e>\u001b[0m in \u001b[0;36m<module>\u001b[1;34m()\u001b[0m\n\u001b[0;32m      3\u001b[0m \u001b[1;32mfrom\u001b[0m \u001b[0mtime\u001b[0m \u001b[1;32mimport\u001b[0m \u001b[0msleep\u001b[0m\u001b[1;33m\u001b[0m\u001b[0m\n\u001b[0;32m      4\u001b[0m \u001b[1;31m#from sch.schedulers import Scheduler\u001b[0m\u001b[1;33m\u001b[0m\u001b[1;33m\u001b[0m\u001b[0m\n\u001b[1;32m----> 5\u001b[1;33m \u001b[0msched\u001b[0m \u001b[1;33m=\u001b[0m \u001b[0mScheduler\u001b[0m\u001b[1;33m(\u001b[0m\u001b[1;33m)\u001b[0m\u001b[1;33m\u001b[0m\u001b[0m\n\u001b[0m\u001b[0;32m      6\u001b[0m \u001b[0msched\u001b[0m\u001b[1;33m.\u001b[0m\u001b[0mstart\u001b[0m\u001b[1;33m(\u001b[0m\u001b[1;33m)\u001b[0m        \u001b[1;31m# start the scheduler\u001b[0m\u001b[1;33m\u001b[0m\u001b[0m\n\u001b[0;32m      7\u001b[0m \u001b[1;33m\u001b[0m\u001b[0m\n",
        "\u001b[1;31mNameError\u001b[0m: name 'Scheduler' is not defined"
       ]
      }
     ],
     "prompt_number": 35
    },
    {
     "cell_type": "code",
     "collapsed": false,
     "input": [
      "sch."
     ],
     "language": "python",
     "metadata": {},
     "outputs": [],
     "prompt_number": 42
    },
    {
     "cell_type": "code",
     "collapsed": false,
     "input": [
      "def my_job(a):\n",
      "    print text\n",
      "job = sch.add_cron_job(my_job, minute=\"*/15\", args=['text'])"
     ],
     "language": "python",
     "metadata": {},
     "outputs": [
      {
       "ename": "AttributeError",
       "evalue": "'module' object has no attribute 'add_cron_job'",
       "output_type": "pyerr",
       "traceback": [
        "\u001b[1;31m---------------------------------------------------------------------------\u001b[0m\n\u001b[1;31mAttributeError\u001b[0m                            Traceback (most recent call last)",
        "\u001b[1;32m<ipython-input-37-1059d8773fef>\u001b[0m in \u001b[0;36m<module>\u001b[1;34m()\u001b[0m\n\u001b[0;32m      1\u001b[0m \u001b[1;32mdef\u001b[0m \u001b[0mmy_job\u001b[0m\u001b[1;33m(\u001b[0m\u001b[0ma\u001b[0m\u001b[1;33m)\u001b[0m\u001b[1;33m:\u001b[0m\u001b[1;33m\u001b[0m\u001b[0m\n\u001b[0;32m      2\u001b[0m     \u001b[1;32mprint\u001b[0m \u001b[0mtext\u001b[0m\u001b[1;33m\u001b[0m\u001b[0m\n\u001b[1;32m----> 3\u001b[1;33m \u001b[0mjob\u001b[0m \u001b[1;33m=\u001b[0m \u001b[0msch\u001b[0m\u001b[1;33m.\u001b[0m\u001b[0madd_cron_job\u001b[0m\u001b[1;33m(\u001b[0m\u001b[0mmy_job\u001b[0m\u001b[1;33m,\u001b[0m \u001b[0mminute\u001b[0m\u001b[1;33m=\u001b[0m\u001b[1;34m\"*/15\"\u001b[0m\u001b[1;33m,\u001b[0m \u001b[0margs\u001b[0m\u001b[1;33m=\u001b[0m\u001b[1;33m[\u001b[0m\u001b[1;34m'text'\u001b[0m\u001b[1;33m]\u001b[0m\u001b[1;33m)\u001b[0m\u001b[1;33m\u001b[0m\u001b[0m\n\u001b[0m",
        "\u001b[1;31mAttributeError\u001b[0m: 'module' object has no attribute 'add_cron_job'"
       ]
      }
     ],
     "prompt_number": 37
    },
    {
     "cell_type": "code",
     "collapsed": false,
     "input": [
      "from apscheduler.schedulers import Scheduler"
     ],
     "language": "python",
     "metadata": {},
     "outputs": [
      {
       "ename": "ImportError",
       "evalue": "cannot import name Scheduler",
       "output_type": "pyerr",
       "traceback": [
        "\u001b[1;31m---------------------------------------------------------------------------\u001b[0m\n\u001b[1;31mImportError\u001b[0m                               Traceback (most recent call last)",
        "\u001b[1;32m<ipython-input-75-d1d3a6227951>\u001b[0m in \u001b[0;36m<module>\u001b[1;34m()\u001b[0m\n\u001b[1;32m----> 1\u001b[1;33m \u001b[1;32mfrom\u001b[0m \u001b[0mapscheduler\u001b[0m\u001b[1;33m.\u001b[0m\u001b[0mschedulers\u001b[0m \u001b[1;32mimport\u001b[0m \u001b[0mScheduler\u001b[0m\u001b[1;33m\u001b[0m\u001b[0m\n\u001b[0m",
        "\u001b[1;31mImportError\u001b[0m: cannot import name Scheduler"
       ]
      }
     ],
     "prompt_number": 75
    },
    {
     "cell_type": "code",
     "collapsed": false,
     "input": [
      "from apscheduler.schedulers.background import BackgroundScheduler\n",
      "sched = BackgroundScheduler()\n",
      "\n",
      "sched.start()        # start the scheduler\n",
      " \n",
      "# define the function that is to be executed\n",
      "# it will be executed in a thread by the scheduler\n",
      "def my_job():\n",
      "    lista=[]\n",
      "    lista.append('text')\n",
      "    return lista\n",
      " \n",
      "def main():\n",
      "    # job = sched.add_date_job(my_job, datetime(2013, 8, 5, 23, 47, 5), ['text'])\n",
      "    job = sched.add_job(my_job, '2014-11-25 22:17:10', [''])\n",
      "    print job\n",
      "    while True:\n",
      "        sleep(1)\n",
      "        sys.stdout.write('.'); sys.stdout.flush()"
     ],
     "language": "python",
     "metadata": {},
     "outputs": [
      {
       "output_type": "stream",
       "stream": "stdout",
       "text": [
        "text\n"
       ]
      }
     ],
     "prompt_number": 75
    },
    {
     "cell_type": "code",
     "collapsed": false,
     "input": [],
     "language": "python",
     "metadata": {},
     "outputs": [],
     "prompt_number": 66
    },
    {
     "cell_type": "code",
     "collapsed": false,
     "input": [
      "from pytz import utc\n",
      "from pytz import timezone\n",
      "from datetime import datetime, timedelta"
     ],
     "language": "python",
     "metadata": {},
     "outputs": [],
     "prompt_number": 18
    },
    {
     "cell_type": "code",
     "collapsed": false,
     "input": [
      "brazil = timezone('UTC-3')"
     ],
     "language": "python",
     "metadata": {},
     "outputs": [
      {
       "ename": "NameError",
       "evalue": "name 'timezone' is not defined",
       "output_type": "pyerr",
       "traceback": [
        "\u001b[1;31m---------------------------------------------------------------------------\u001b[0m\n\u001b[1;31mNameError\u001b[0m                                 Traceback (most recent call last)",
        "\u001b[1;32m<ipython-input-6-3851b7c52625>\u001b[0m in \u001b[0;36m<module>\u001b[1;34m()\u001b[0m\n\u001b[1;32m----> 1\u001b[1;33m \u001b[0mbrazil\u001b[0m \u001b[1;33m=\u001b[0m \u001b[0mtimezone\u001b[0m\u001b[1;33m(\u001b[0m\u001b[1;34m'UTC-3'\u001b[0m\u001b[1;33m)\u001b[0m\u001b[1;33m\u001b[0m\u001b[0m\n\u001b[0m",
        "\u001b[1;31mNameError\u001b[0m: name 'timezone' is not defined"
       ]
      }
     ],
     "prompt_number": 6
    },
    {
     "cell_type": "code",
     "collapsed": false,
     "input": [],
     "language": "python",
     "metadata": {},
     "outputs": [],
     "prompt_number": 5
    },
    {
     "cell_type": "code",
     "collapsed": false,
     "input": [
      "utc_dt = timezone('UTC')\n",
      "utc_3 = (utc_dt + timedelta(hours=-3))"
     ],
     "language": "python",
     "metadata": {},
     "outputs": [
      {
       "ename": "TypeError",
       "evalue": "unsupported operand type(s) for +: 'UTC' and 'datetime.timedelta'",
       "output_type": "pyerr",
       "traceback": [
        "\u001b[1;31m---------------------------------------------------------------------------\u001b[0m\n\u001b[1;31mTypeError\u001b[0m                                 Traceback (most recent call last)",
        "\u001b[1;32m<ipython-input-29-b16a0a8ab0cc>\u001b[0m in \u001b[0;36m<module>\u001b[1;34m()\u001b[0m\n\u001b[0;32m      1\u001b[0m \u001b[0mutc_dt\u001b[0m \u001b[1;33m=\u001b[0m \u001b[0mtimezone\u001b[0m\u001b[1;33m(\u001b[0m\u001b[1;34m'UTC'\u001b[0m\u001b[1;33m)\u001b[0m\u001b[1;33m\u001b[0m\u001b[0m\n\u001b[1;32m----> 2\u001b[1;33m \u001b[0mutc_3\u001b[0m \u001b[1;33m=\u001b[0m \u001b[1;33m(\u001b[0m\u001b[0mutc_dt\u001b[0m \u001b[1;33m+\u001b[0m \u001b[0mtimedelta\u001b[0m\u001b[1;33m(\u001b[0m\u001b[0mhours\u001b[0m\u001b[1;33m=\u001b[0m\u001b[1;33m-\u001b[0m\u001b[1;36m3\u001b[0m\u001b[1;33m)\u001b[0m\u001b[1;33m)\u001b[0m\u001b[1;33m\u001b[0m\u001b[0m\n\u001b[0m",
        "\u001b[1;31mTypeError\u001b[0m: unsupported operand type(s) for +: 'UTC' and 'datetime.timedelta'"
       ]
      }
     ],
     "prompt_number": 29
    },
    {
     "cell_type": "code",
     "collapsed": false,
     "input": [
      "def my_job():\n",
      "    return 'text'"
     ],
     "language": "python",
     "metadata": {},
     "outputs": [],
     "prompt_number": 4
    },
    {
     "cell_type": "code",
     "collapsed": false,
     "input": [
      "a=sched.add_job(my_job, 'cron', day_of_week='tue-fri', hour=21, minute=18, end_date='2014-11-30')"
     ],
     "language": "python",
     "metadata": {},
     "outputs": [],
     "prompt_number": 115
    },
    {
     "cell_type": "code",
     "collapsed": false,
     "input": [
      "a=sched.add_job(my_job, 'interval', seconds = 15)"
     ],
     "language": "python",
     "metadata": {},
     "outputs": [],
     "prompt_number": 139
    },
    {
     "cell_type": "code",
     "collapsed": false,
     "input": [],
     "language": "python",
     "metadata": {},
     "outputs": [],
     "prompt_number": 141
    },
    {
     "cell_type": "code",
     "collapsed": true,
     "input": [],
     "language": "python",
     "metadata": {},
     "outputs": [],
     "prompt_number": 141
    },
    {
     "cell_type": "code",
     "collapsed": false,
     "input": [
      "a.pause"
     ],
     "language": "python",
     "metadata": {},
     "outputs": [
      {
       "metadata": {},
       "output_type": "pyout",
       "prompt_number": 141,
       "text": [
        "<bound method Job.pause of <Job (id=9774108a51224b07968c284966ac502f name=my_job)>>"
       ]
      }
     ],
     "prompt_number": 141
    },
    {
     "cell_type": "code",
     "collapsed": false,
     "input": [
      "a.resume"
     ],
     "language": "python",
     "metadata": {},
     "outputs": [
      {
       "metadata": {},
       "output_type": "pyout",
       "prompt_number": 135,
       "text": [
        "<bound method Job.resume of <Job (id=b05f059c5e66426f9a9e2aeb4edb825a name=my_job)>>"
       ]
      }
     ],
     "prompt_number": 135
    },
    {
     "cell_type": "code",
     "collapsed": false,
     "input": [],
     "language": "python",
     "metadata": {},
     "outputs": [],
     "prompt_number": 0
    },
    {
     "cell_type": "code",
     "collapsed": false,
     "input": [],
     "language": "python",
     "metadata": {},
     "outputs": [],
     "prompt_number": 0
    },
    {
     "cell_type": "code",
     "collapsed": false,
     "input": [
      "import threading\n",
      "\n",
      "def printit():\n",
      "  threading.Timer(5.0, printit).start()\n",
      "  print \"Hello, World!\""
     ],
     "language": "python",
     "metadata": {},
     "outputs": [],
     "prompt_number": 132
    },
    {
     "cell_type": "code",
     "collapsed": false,
     "input": [],
     "language": "python",
     "metadata": {},
     "outputs": [],
     "prompt_number": 131
    },
    {
     "cell_type": "code",
     "collapsed": false,
     "input": [],
     "language": "python",
     "metadata": {},
     "outputs": [],
     "prompt_number": 131
    },
    {
     "cell_type": "code",
     "collapsed": false,
     "input": [],
     "language": "python",
     "metadata": {},
     "outputs": []
    }
   ],
   "metadata": {}
  }
 ]
}