{
 "metadata": {
  "name": "",
  "signature": "sha256:d0351d2ed0b43b5407505259e09d4ddc9b0779f1e973e99f2fa1617704379831"
 },
 "nbformat": 3,
 "nbformat_minor": 0,
 "worksheets": [
  {
   "cells": [
    {
     "cell_type": "code",
     "collapsed": false,
     "input": [
      "from pulp import *\n",
      "\n",
      "prob = LpProblem(\"test1\", LpMinimize)\n",
      "\n",
      "# Variables\n",
      "x = LpVariable(\"x\", 0, 4)\n",
      "y = LpVariable(\"y\", -1, 1)\n",
      "z = LpVariable(\"z\", 0)\n",
      "\n",
      "# Objective\n",
      "prob += x + 4*y + 9*z\n",
      "\n",
      "# Constraints\n",
      "prob += x+y <= 5\n",
      "prob += x+z >= 10\n",
      "prob += -y+z == 7\n",
      "\n",
      "GLPK().solve(prob)\n",
      "\n",
      "# Solution\n",
      "for v in prob.variables():\n",
      "   print v.name, \"=\", v.varValue\n",
      "\n",
      "print \"objective=\", value(prob.objective)"
     ],
     "language": "python",
     "metadata": {},
     "outputs": [
      {
       "output_type": "stream",
       "stream": "stdout",
       "text": [
        "x = 4.0\n",
        "y = -1.0\n",
        "z = 6.0\n",
        "objective= 54.0\n"
       ]
      }
     ],
     "prompt_number": 8
    },
    {
     "cell_type": "code",
     "collapsed": false,
     "input": [
      "from pulp import *\n",
      "x = LpVariable(\"x\", 0, 3)\n",
      "y = LpVariable(\"y\", 0, 1)\n",
      "prob = LpProblem(\"myProblem\", LpMinimize)\n",
      "\n",
      "prob += x + y <= 2\n",
      "#objective function\n",
      "prob += -4*x + y\n",
      "\n",
      "status = prob.solve(GLPK(msg = 0))\n",
      "#results\n",
      "value(x)"
     ],
     "language": "python",
     "metadata": {},
     "outputs": [
      {
       "metadata": {},
       "output_type": "pyout",
       "prompt_number": 2,
       "text": [
        "2.0"
       ]
      }
     ],
     "prompt_number": 2
    },
    {
     "cell_type": "code",
     "collapsed": false,
     "input": [
      "pulpTestAll()"
     ],
     "language": "python",
     "metadata": {},
     "outputs": [
      {
       "output_type": "stream",
       "stream": "stdout",
       "text": [
        "\t Testing zero subtraction\n",
        "\t Testing continuous LP solution\n",
        "\t Testing maximize continuous LP solution"
       ]
      },
      {
       "output_type": "stream",
       "stream": "stdout",
       "text": [
        "\n",
        "\t Testing unbounded continuous LP solution\n",
        "\t Testing Long Names"
       ]
      },
      {
       "output_type": "stream",
       "stream": "stdout",
       "text": [
        "\n",
        "\t Testing repeated Names\n",
        "\t Testing zero constraint\n",
        "\t Testing zero objective"
       ]
      },
      {
       "output_type": "stream",
       "stream": "stdout",
       "text": [
        "\n",
        "\t Testing LpVariable (not LpAffineExpression) objective\n",
        "\t Testing MIP solution"
       ]
      },
      {
       "output_type": "stream",
       "stream": "stdout",
       "text": [
        "\n",
        "\t Testing MIP relaxation\n",
        "\t Testing feasibility problem (no objective)"
       ]
      },
      {
       "output_type": "stream",
       "stream": "stdout",
       "text": [
        "\n",
        "\t Testing an infeasible problem\n",
        "\t Testing an integer infeasible problem"
       ]
      },
      {
       "output_type": "stream",
       "stream": "stdout",
       "text": [
        "\n",
        "\t Testing column based modelling\n",
        "\t Testing dual variables and slacks reporting"
       ]
      },
      {
       "output_type": "stream",
       "stream": "stdout",
       "text": [
        "\n",
        "\t Testing fractional constraints"
       ]
      },
      {
       "output_type": "stream",
       "stream": "stdout",
       "text": [
        "\n",
        "\t Testing elastic constraints (no change)\n",
        "\t Testing elastic constraints (freebound)"
       ]
      },
      {
       "output_type": "stream",
       "stream": "stdout",
       "text": [
        "\n",
        "\t Testing elastic constraints (penalty unchanged)\n",
        "\t Testing elastic constraints (penalty unbounded)"
       ]
      },
      {
       "output_type": "stream",
       "stream": "stdout",
       "text": [
        "\n",
        "* Solver pulp.solvers.PULP_CBC_CMD passed.\n",
        "Solver pulp.solvers.CPLEX_DLL unavailable\n",
        "Solver pulp.solvers.CPLEX_CMD unavailable\n",
        "Solver pulp.solvers.CPLEX_PY unavailable\n",
        "Solver pulp.solvers.COIN_CMD unavailable\n",
        "Solver pulp.solvers.COINMP_DLL unavailable\n",
        "\t Testing zero subtraction\n",
        "\t Testing continuous LP solution\n",
        "\t Testing maximize continuous LP solution"
       ]
      },
      {
       "output_type": "stream",
       "stream": "stdout",
       "text": [
        "\n",
        "\t Testing unbounded continuous LP solution\n",
        "\t Testing Long Names"
       ]
      },
      {
       "output_type": "stream",
       "stream": "stdout",
       "text": [
        "\n",
        "\t Testing repeated Names\n",
        "\t Testing zero constraint\n",
        "\t Testing zero objective\n",
        "\t Testing LpVariable (not LpAffineExpression) objective"
       ]
      },
      {
       "output_type": "stream",
       "stream": "stdout",
       "text": [
        "\n",
        "\t Testing MIP solution\n",
        "\t Testing MIP relaxation"
       ]
      },
      {
       "output_type": "stream",
       "stream": "stdout",
       "text": [
        "\n",
        "\t Testing feasibility problem (no objective)\n",
        "\t Testing an infeasible problem"
       ]
      },
      {
       "output_type": "stream",
       "stream": "stdout",
       "text": [
        "\n",
        "\t Testing an integer infeasible problem\n",
        "\t Testing column based modelling"
       ]
      },
      {
       "output_type": "stream",
       "stream": "stdout",
       "text": [
        "\n",
        "\t Testing fractional constraints"
       ]
      },
      {
       "output_type": "stream",
       "stream": "stdout",
       "text": [
        "\n",
        "\t Testing elastic constraints (no change)\n",
        "\t Testing elastic constraints (freebound)"
       ]
      },
      {
       "output_type": "stream",
       "stream": "stdout",
       "text": [
        "\n",
        "\t Testing elastic constraints (penalty unchanged)\n",
        "\t Testing elastic constraints (penalty unbounded)"
       ]
      },
      {
       "output_type": "stream",
       "stream": "stdout",
       "text": [
        "\n",
        "* Solver pulp.solvers.GLPK_CMD passed.\n",
        "Solver pulp.solvers.XPRESS unavailable\n",
        "Solver pulp.solvers.GUROBI unavailable\n",
        "Solver pulp.solvers.GUROBI_CMD unavailable\n",
        "Solver pulp.solvers.PYGLPK unavailable\n",
        "Solver pulp.solvers.YAPOSIB unavailable\n"
       ]
      }
     ],
     "prompt_number": 3
    },
    {
     "cell_type": "code",
     "collapsed": false,
     "input": [],
     "language": "python",
     "metadata": {},
     "outputs": [],
     "prompt_number": 15
    },
    {
     "cell_type": "code",
     "collapsed": false,
     "input": [],
     "language": "python",
     "metadata": {},
     "outputs": []
    }
   ],
   "metadata": {}
  }
 ]
}