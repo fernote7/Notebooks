{
 "metadata": {
  "name": "",
  "signature": "sha256:c5733d19228c83aa723acfba5f72b813a59fa90be177c8ba93a062b93a54e82a"
 },
 "nbformat": 3,
 "nbformat_minor": 0,
 "worksheets": []
}